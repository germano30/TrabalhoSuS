{
 "cells": [
  {
   "attachments": {},
   "cell_type": "markdown",
   "metadata": {},
   "source": [
    "Alunos: Arthur Merode Germano (22103404), Pedro Mattia Lunelli (22106771), Vitor Luis Cavagnoli Machado(22106873)"
   ]
  },
  {
   "attachments": {},
   "cell_type": "markdown",
   "metadata": {},
   "source": [
    "<h1>Códigos referente a pergunta 1</h1>"
   ]
  },
  {
   "cell_type": "code",
   "execution_count": null,
   "metadata": {},
   "outputs": [],
   "source": [
    "from pysus.online_data import SINAN, FTP_Inspect, parquets_to_dataframe\n",
    "import pandas as pd\n",
    "import numpy as np \n",
    "import matplotlib.pyplot as plt\n",
    "dfFinal = pd.DataFrame()\n",
    "listAnos = [2019,2018,2017,2016,2015,2014,2013,2012]\n",
    "for i in listAnos:\n",
    "    df = parquets_to_dataframe(SINAN.download('Sífilis Adquirida',i))\n",
    "    df.drop(columns=['TP_NOT','CS_SUSPEIT','SEM_NOT','ID_MUNICIP','DT_SIN_PRI','SEM_PRI','CS_GESTANT','SG_UF_NOT','ID_MN_RESI','ID_RG_RESI','ID_PAIS','NDUPLIC_N','IN_VINCULA','DT_INVEST','ID_OCUPA_N','CLASSI_FIN','CRITERIO','TPAUTOCTO','COUFINF','COPAISINF','COMUNINF',\"DOENCA_TRA\",'EVOLUCAO','DT_OBITO','DT_ENCERRA','TP_SISTEMA','TPUNINOT'],inplace=True)\n",
    "    dfFinal = dfFinal.append(df)\n"
   ]
  },
  {
   "cell_type": "code",
   "execution_count": null,
   "metadata": {},
   "outputs": [],
   "source": [
    "from pysus.preprocessing.decoders import decodifica_idade_SINAN\n",
    "df = dfFinal\n",
    "sem_idade = df.loc[df['NU_IDADE_N'] == '****']\n",
    "df.drop(sem_idade.index, inplace=True)\n",
    "df['IDADE'] = df['NU_IDADE_N'].apply(decodifica_idade_SINAN).fillna(-1).astype(int)\n",
    "df = df.loc[(df['IDADE']>=25)&(df['IDADE']<=100)]"
   ]
  },
  {
   "cell_type": "code",
   "execution_count": null,
   "metadata": {},
   "outputs": [],
   "source": [
    "# 1. 1ª a 4ª série incompleta do EF == EFI\n",
    "# 2. 4ª série completa do EF ( antigo 1° grau) == EFI\n",
    "# 3. 5ª à 8ª série incompleta do EF (antigo ginásio ou 1° grau) == EFI\n",
    "# 4. Ensino fundamental completo (antigo ginásio ou 1° grau)== EFC\n",
    "# 5. Ensino médio incompleto (antigo colegial ou 2° grau) == EMI\n",
    "# 6. Ensino médio completo (antigo colegial ou 2° grau) == EMC\n",
    "# 7. Educação superior incompleta == ESI\n",
    "# 8. Educação superior completa == ESC\n",
    "# 9. Ignorado == IGNORADO\n",
    "# 10. Não se aplicavel idade < 7 anos == <7 ANOS\n",
    "def anos_escolaridade(n):\n",
    "    if  n in ['01','02','03']:\n",
    "        return 'Ensino Fundamental Incompleto'\n",
    "    elif n == '04':\n",
    "        return'Ensino Fundamental Completo'\n",
    "    elif n == '05':\n",
    "        return 'Ensino Médio Incompleto'\n",
    "    elif n == '06':\n",
    "        return 'Ensino Médio Completo'\n",
    "    elif n == '07':\n",
    "        return 'Ensino Superior Incompleto'\n",
    "    elif n == '08':\n",
    "        return 'Ensino Superior Completo'\n",
    "    else:\n",
    "        return 'NAO INFORMADO'\n",
    "\n",
    "df['NIVEL_ESCOLARIDADE'] = df['CS_ESCOL_N'].apply(anos_escolaridade)\n",
    "df.to_csv('dados_analisados_1.csv',index=False)"
   ]
  },
  {
   "cell_type": "code",
   "execution_count": null,
   "metadata": {},
   "outputs": [],
   "source": [
    "df2 = df.groupby('NIVEL_ESCOLARIDADE').size().reset_index(name='TOTAL')\n",
    "\n",
    "def porcentagem(df):\n",
    "    pessoas = [13449416,67667374.25,16811770,9456620.625,57580312.25,8405885,36565599.75]\n",
    "    if df['NIVEL_ESCOLARIDADE'] == 'Ensino Fundamental Incompleto':\n",
    "        return (df['TOTAL']/(pessoas[1]+pessoas[0]))*100\n",
    "    elif df['NIVEL_ESCOLARIDADE'] == 'Ensino Fundamental Completo':\n",
    "        return (df['TOTAL']/pessoas[2])*100\n",
    "    elif df['NIVEL_ESCOLARIDADE'] == 'Ensino Médio Incompleto':\n",
    "        return (df['TOTAL']/pessoas[3])*100\n",
    "    elif df['NIVEL_ESCOLARIDADE'] == 'Ensino Médio Completo':\n",
    "        return (df['TOTAL']/pessoas[4])*100\n",
    "    elif df['NIVEL_ESCOLARIDADE'] == 'Ensino Superior Incompleto':\n",
    "        return (df['TOTAL']/pessoas[4])*100\n",
    "    elif df['NIVEL_ESCOLARIDADE'] == 'Ensino Superior Completo':\n",
    "        return (df['TOTAL']/pessoas[6])*100\n",
    "    else:\n",
    "        return (df['TOTAL']/pessoas[0])*100\n",
    "\n",
    "df2 = df2.loc[df2['NIVEL_ESCOLARIDADE']!='NAO INFORMADO']\n",
    "df2['PORCENTAGEM'] = df2.apply(porcentagem,axis=1)\n",
    "ordem = [1, 0, 3, 2, 5, 4]\n",
    "df2 = df2.iloc[ordem]\n",
    "df2.reset_index(drop=True, inplace=True)"
   ]
  },
  {
   "cell_type": "code",
   "execution_count": null,
   "metadata": {},
   "outputs": [],
   "source": [
    "data = {\n",
    "    'NIVEL_ESCOLARIDADE': ['Ensino Fundamental Incompleto', 'Ensino Fundamental Completo', 'Ensino Médio Incompleto', 'Ensino Médio Completo', 'Ensino Superior Incompleto', 'Ensino Superior Completo'],\n",
    "    'PORCENTAGEM': [38.6, 8, 4.5, 27.4, 4, 17.4]\n",
    "}\n",
    "\n",
    "dfAux = pd.DataFrame(data, columns=['NIVEL_ESCOLARIDADE', 'PORCENTAGEM'])"
   ]
  },
  {
   "cell_type": "code",
   "execution_count": null,
   "metadata": {},
   "outputs": [],
   "source": [
    "import numpy as np\n",
    "x =np.arange(6)\n",
    "largura = 0.40\n",
    "eixo_xA = x - largura/2\n",
    "eixo_xB = x + largura/2+0.01\n",
    "#plot do gráfico de barras\n",
    "color = ['#e5c494','#ffd92f','#a6d854','#e78ac3','#8da0cb','#fc8d62']\n",
    "soma = df2[\"PORCENTAGEM\"].sum()\n",
    "for index, row in df2.iterrows():\n",
    "    percentage = (row[\"PORCENTAGEM\"] /soma) * 100\n",
    "    df2.at[index, 'PORCENTAGEM'] = percentage\n",
    "fig,ax = plt.subplots(figsize = (12,6))\n",
    "principal = ax.bar(eixo_xA,df2['PORCENTAGEM'],largura,color = color,edgecolor='black')\n",
    "sec = ax.bar(eixo_xB,dfAux['PORCENTAGEM'],largura)\n",
    "for index, row in df2.iterrows():\n",
    "    percentage = f'{row[\"PORCENTAGEM\"] :.2f}%'\n",
    "    ax.text(index, row[\"PORCENTAGEM\"], percentage, ha='right', va='bottom')\n",
    "for index, row in dfAux.iterrows():\n",
    "    ax.text(index+0.05, row[\"PORCENTAGEM\"], f'{row[\"PORCENTAGEM\"]:.2f}%', ha='left', va='bottom')\n",
    "ax.set_xticks(x)\n",
    "ax.set_xticklabels(df2['NIVEL_ESCOLARIDADE'],rotation=40, ha=\"right\")\n",
    "plt.legend((principal[0], sec[0]), ('Casos por nível de instrução', 'Proporção do nível de instrução da pop. brasileira'),loc = 'upper right',title='Legenda')\n",
    "plt.title('Proporção de pessoas com Sífilis Adquirida por Nível de Escolaridade')\n",
    "plt.xlabel('Nível de Escolaridade')\n",
    "plt.ylabel('Porcentagem')\n",
    "plt.show()  \n",
    "\n"
   ]
  },
  {
   "attachments": {},
   "cell_type": "markdown",
   "metadata": {},
   "source": [
    "<h1>Códigos referentes a pergunta 2</h1>"
   ]
  },
  {
   "cell_type": "code",
   "execution_count": null,
   "metadata": {},
   "outputs": [],
   "source": [
    "from pysus.online_data import SINAN, FTP_Inspect, parquets_to_dataframe\n",
    "import pandas as pd\n",
    "from pysus.preprocessing.decoders import decodifica_idade_SINAN\n",
    "import matplotlib.pyplot as plt\n",
    "import seaborn as sns"
   ]
  },
  {
   "cell_type": "code",
   "execution_count": null,
   "metadata": {},
   "outputs": [],
   "source": [
    "SINAN.get_available_years('Sífilis Adquirida') #disponibilidade de dados por ano"
   ]
  },
  {
   "cell_type": "code",
   "execution_count": null,
   "metadata": {},
   "outputs": [],
   "source": [
    "dfFinal = pd.DataFrame()\n",
    "listAnos = [2021,2020,2019,2018,2017,2016,2015,2014,2013,2012,2011,2010] #anos que serão escolhidos para a análise\n",
    "\n",
    "for i in listAnos: #Loop para baixar os arquivos de cada ano de acordo com a lista\n",
    "    df = parquets_to_dataframe(SINAN.download('Sífilis Adquirida',i))#DOWNLOAD\n",
    "    df.drop(columns=['TP_NOT','CS_SUSPEIT','SEM_NOT','ID_MUNICIP','DT_SIN_PRI','SEM_PRI','CS_GESTANT','SG_UF_NOT','ID_MN_RESI','ID_RG_RESI','ID_PAIS','NDUPLIC_N','IN_VINCULA','DT_INVEST','ID_OCUPA_N','CLASSI_FIN','CRITERIO','TPAUTOCTO','COUFINF','COPAISINF','COMUNINF',\"DOENCA_TRA\",'EVOLUCAO','DT_OBITO','DT_ENCERRA','TP_SISTEMA','TPUNINOT'],inplace=True) #drop de colunas \"inúteis\"\n",
    "    dfFinal = dfFinal.append(df) #junção dos dataframes de cada ano em um único dataframe\n",
    "dfFinal.to_csv('dados_analisados_2.csv') #salvando o dataframe em um arquivo csv para enviar ao professor, sobre os dados analisados\n",
    "\n",
    "byYear = dfFinal.groupby(['NU_ANO']).size() # agrupamento por ano para identificar a quantidade de casos por ano"
   ]
  },
  {
   "cell_type": "code",
   "execution_count": null,
   "metadata": {},
   "outputs": [],
   "source": [
    "import seaborn as sns\n",
    "import matplotlib.pyplot as plt\n",
    "import matplotlib.ticker as ticker\n",
    "\n",
    "plt.figure(figsize=(10, 6))  # Definir tamanho da figura (largura, altura)\n",
    "\n",
    "ax = sns.barplot(x=byYear.index, y=byYear.values, color='red', hue=byYear.values, edgecolor='black', linewidth=1.5, saturation=1, dodge=False) # plotagem do gráfico de barras\n",
    "\n",
    "plt.xlabel('Ano') # nome do eixo x\n",
    "plt.ylabel('Quantidade de casos') # nome do eixo y\n",
    "plt.title('Quantidade de casos de Sífilis Adquirida por ano') # título do gráfico\n",
    "\n",
    "# Adicionando os valores das barras\n",
    "for i, v in enumerate(byYear.values):\n",
    "    ax.text(i, v, '{:,.0f}'.format(v).replace(',', '.'), color='black', ha='center', va='bottom', fontsize=10)  # Aumentar o tamanho da fonte para fontsize=10\n",
    "\n",
    "# Removendo a barra preta da legenda\n",
    "handles, labels = ax.get_legend_handles_labels()\n",
    "handles = handles[:len(byYear.index)]\n",
    "labels = list(byYear.index)\n",
    "ax.legend(handles=handles, labels=labels, loc='upper left')\n",
    "\n",
    "# Ajustando o separador de milhar no eixo y\n",
    "ax.yaxis.set_major_formatter(ticker.FuncFormatter(lambda x, p: format(int(x), ',').replace(',', '.')))\n",
    "\n",
    "# Aumentar a distância entre as barras\n",
    "ax.set_xticklabels(ax.get_xticklabels(), rotation=45, ha='right')\n",
    "\n",
    "plt.tight_layout()  # Ajustar layout da figura\n",
    "\n",
    "plt.show() # plotagem do gráfico\n"
   ]
  }
 ],
 "metadata": {
  "kernelspec": {
   "display_name": "cpa",
   "language": "python",
   "name": "python3"
  },
  "language_info": {
   "codemirror_mode": {
    "name": "ipython",
    "version": 3
   },
   "file_extension": ".py",
   "mimetype": "text/x-python",
   "name": "python",
   "nbconvert_exporter": "python",
   "pygments_lexer": "ipython3",
   "version": "3.10.9"
  },
  "orig_nbformat": 4
 },
 "nbformat": 4,
 "nbformat_minor": 2
}
